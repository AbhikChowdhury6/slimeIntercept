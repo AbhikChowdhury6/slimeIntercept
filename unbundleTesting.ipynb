{
 "cells": [
  {
   "cell_type": "code",
   "execution_count": 15,
   "metadata": {},
   "outputs": [],
   "source": [
    "# i'd love how to learn how to use struct better!\n",
    "t = '00000064000000000000a8c90017000000110001bdf0dbb63c94238ebdf026ac3f7c676a03001100000004000000003e8e00003c40000000'"
   ]
  },
  {
   "cell_type": "code",
   "execution_count": 62,
   "metadata": {},
   "outputs": [
    {
     "data": {
      "text/plain": [
       "56"
      ]
     },
     "execution_count": 62,
     "metadata": {},
     "output_type": "execute_result"
    }
   ],
   "source": [
    "len(t)"
   ]
  },
  {
   "cell_type": "code",
   "execution_count": 17,
   "metadata": {},
   "outputs": [],
   "source": [
    "# use 0b for binary and bin() for casting\n",
    "#int(\"0b1100100\", 2) # Output: 100 for strings\n",
    "#t = 0x00000064000000000000a8c90017000000110001bdf0dbb63c94238ebdf026ac3f7c676a03001100000004000000003e8e00003c40000000\n",
    "t = bytes.fromhex(t)"
   ]
  },
  {
   "cell_type": "code",
   "execution_count": 19,
   "metadata": {},
   "outputs": [
    {
     "data": {
      "text/plain": [
       "(100,)"
      ]
     },
     "execution_count": 19,
     "metadata": {},
     "output_type": "execute_result"
    }
   ],
   "source": [
    "import struct\n",
    "struct.unpack(\">I\",t[:4])[0]"
   ]
  },
  {
   "cell_type": "code",
   "execution_count": 21,
   "metadata": {},
   "outputs": [
    {
     "data": {
      "text/plain": [
       "56"
      ]
     },
     "execution_count": 21,
     "metadata": {},
     "output_type": "execute_result"
    }
   ],
   "source": [
    "len(t)"
   ]
  },
  {
   "cell_type": "code",
   "execution_count": 30,
   "metadata": {},
   "outputs": [
    {
     "name": "stdout",
     "output_type": "stream",
     "text": [
      "100\n",
      "0\n",
      "43209\n",
      "1507328\n",
      "1114113\n",
      "3186678710\n",
      "1016341390\n",
      "3186632364\n",
      "1065117546\n",
      "50336000\n",
      "1024\n",
      "62\n",
      "2382364732\n",
      "1073741824\n"
     ]
    }
   ],
   "source": [
    "for i in range(0,len(t)-3, 4):\n",
    "    print(struct.unpack(\">I\",t[i:i+4])[0])"
   ]
  },
  {
   "cell_type": "code",
   "execution_count": 33,
   "metadata": {},
   "outputs": [
    {
     "name": "stdout",
     "output_type": "stream",
     "text": [
      "0 1.401298464324817e-43\n",
      "1 0.0\n",
      "2 6.054870534501102e-41\n",
      "3 2.112216411633798e-39\n",
      "4 1.561204835984315e-39\n",
      "5 -0.11760656535625458\n",
      "6 0.0180833600461483\n",
      "7 -0.11726126074790955\n",
      "8 0.9859529733657837\n",
      "9 3.763533426924677e-37\n",
      "10 1.4349296274686127e-42\n",
      "11 8.688050478813866e-44\n",
      "12 -1.5777330951877915e-30\n",
      "13 2.0\n"
     ]
    }
   ],
   "source": [
    "for j, i in enumerate(range(0,len(t)-3, 4)):\n",
    "    print(j, float(struct.unpack(\">f\",t[i:i+4])[0]))"
   ]
  },
  {
   "cell_type": "code",
   "execution_count": 32,
   "metadata": {},
   "outputs": [
    {
     "name": "stdout",
     "output_type": "stream",
     "text": [
      "0 0x64\n",
      "1 0x0\n",
      "2 0xa8c9\n",
      "3 0x170000\n",
      "4 0x110001\n",
      "5 0xbdf0dbb6\n",
      "6 0x3c94238e\n",
      "7 0xbdf026ac\n",
      "8 0x3f7c676a\n",
      "9 0x3001100\n",
      "10 0x400\n",
      "11 0x3e\n",
      "12 0x8e00003c\n"
     ]
    }
   ],
   "source": [
    "for j, i in enumerate(range(0,len(t)-4, 4)):\n",
    "    print(j, hex(struct.unpack(\">I\",t[i:i+4])[0]))"
   ]
  },
  {
   "cell_type": "code",
   "execution_count": null,
   "metadata": {},
   "outputs": [],
   "source": [
    "# it proably uses the ip to track which sensor is which obvi, we should do that too\n",
    "\n",
    "# 0 - 4 is the packet type ez\n",
    "# 5,6,7,8 look like good floats but I don't know for what\n",
    "\n",
    "#4-8 looks like a buffer 4 bytes\n",
    "\n",
    "#when shifted by 3 bytes 10,11 and 12 look like floats!"
   ]
  },
  {
   "cell_type": "code",
   "execution_count": 104,
   "metadata": {},
   "outputs": [],
   "source": [
    "bundle_parsings = {\n",
    "    'always_000000?': ('b',0,3),\n",
    "    'zpacket_type': ('ui8',3,4),\n",
    "    'always_all_0?': ('b',4,8),\n",
    "    'potential_counter': ('ui32',8,12),\n",
    "    'unknown2_always_0_23_0_0_0?': ('b',12,17),\n",
    "    'zquat_packet_sig': ('ui8',17,18),\n",
    "    'unknown3_always_0001?': ('b',18,20),\n",
    "    'zquat_w': ('f',20,24),\n",
    "    'zquat_x': ('f',24,28),\n",
    "    'zquat_y': ('f',28,32),\n",
    "    'zquat_z': ('f',32,36),\n",
    "    'unknown4_always_3_0_17_0_0_0?': ('b',36,42),\n",
    "    'zaccel_packet_sig': ('ui8',42,43),\n",
    "    'zaccel_x': ('f',43,47),\n",
    "    'zaccel_y': ('f',47,51),\n",
    "    'zaccel_z': ('f',51,55),\n",
    "}"
   ]
  },
  {
   "cell_type": "code",
   "execution_count": 105,
   "metadata": {},
   "outputs": [
    {
     "name": "stdout",
     "output_type": "stream",
     "text": [
      "always_000000? b'\\x00\\x00\\x00'\n",
      "always_all_0? b'\\x00\\x00\\x00\\x00'\n",
      "potential_counter 43343\n",
      "unknown2_always_0_23_0_0_0? b'\\x00\\x17\\x00\\x00\\x00'\n",
      "unknown3_always_0001? b'\\x00\\x01'\n",
      "unknown4_always_3_0_17_0_0_0? b'\\x03\\x00\\x11\\x00\\x00\\x00'\n",
      "zaccel_packet_sig 4\n",
      "zaccel_x 0.13671875\n",
      "zaccel_y -0.03515625\n",
      "zaccel_z 0.01953125\n",
      "zpacket_type 100\n",
      "zquat_packet_sig 17\n",
      "zquat_w -0.009192733094096184\n",
      "zquat_x 0.004013728350400925\n",
      "zquat_y -0.11497390270233154\n",
      "zquat_z 0.993333101272583\n"
     ]
    }
   ],
   "source": [
    "t = '00000064000000000000a94f0017000000110001bc169d1e3b838598bdeb77703f7e4b14030011000000043e0c0000bd1000003ca0000000'\n",
    "t = bytes.fromhex(t)\n",
    "for f in sorted(bundle_parsings.keys()):\n",
    "    d = bundle_parsings[f]\n",
    "    if d[0] == 'ui8':\n",
    "        print(f, struct.unpack('>I',b'\\x00\\x00\\x00' + t[d[1]:d[2]])[0])\n",
    "    elif d[0] == 'ui32':\n",
    "        print(f, struct.unpack('>I',t[d[1]:d[2]])[0])\n",
    "    elif d[0] == 'f':\n",
    "        print(f, struct.unpack('>f',t[d[1]:d[2]])[0])\n",
    "    else:\n",
    "        print(f, t[d[1]:d[2]])\n"
   ]
  },
  {
   "cell_type": "code",
   "execution_count": null,
   "metadata": {},
   "outputs": [],
   "source": [
    "#000000\n",
    "#64 3 - packet type\n",
    "\n",
    "#00000000 < consistently all 0's? \n",
    "\n",
    "#0000a8c9 <maybe some king of counter\n",
    "\n",
    "#00170000\n",
    "#00 <seems to always be the same\n",
    "\n",
    "#11 < quat_packet_sig\n",
    "\n",
    "#0001 <consistently 0001?\n",
    "\n",
    "#bdf0dbb6 - 5 < W\n",
    "#3c94238e - 6 < X\n",
    "#bdf026ac - 7 < Y\n",
    "#3f7c676a - 8 < Z\n",
    "\n",
    "#03001100 < 6 bytes?\n",
    "#0000\n",
    "\n",
    "#04 < accel packet signifier\n",
    "\n",
    "#00\n",
    "#000000 < X?\n",
    "\n",
    "#3e\n",
    "#8e0000 < Y?\n",
    "\n",
    "#3c\n",
    "#400000 < Z?\n",
    "\n",
    "#00 < 1 byte? consistently 0?\n",
    "\n",
    "\n"
   ]
  },
  {
   "cell_type": "code",
   "execution_count": null,
   "metadata": {},
   "outputs": [],
   "source": []
  },
  {
   "cell_type": "code",
   "execution_count": 61,
   "metadata": {},
   "outputs": [
    {
     "name": "stdout",
     "output_type": "stream",
     "text": [
      "0 9.44473296573929e+21\n",
      "1 2.3541814200656927e-43\n",
      "2 -524656.0\n",
      "3 6.098450916741604e-42\n",
      "4 6.977324574348857e-38\n",
      "5 -2.810040996337193e-06\n",
      "6 -4.682335174805554e-30\n",
      "7 -2.721178967921012e-12\n",
      "8 3.959239899104142e+25\n",
      "9 5.605193857299268e-45\n",
      "10 0.0\n",
      "11 0.27734375\n",
      "12 0.01171875\n"
     ]
    }
   ],
   "source": [
    "s = '00000064000000000000a8c90017000000110001bdf0dbb63c94238ebdf026ac3f7c676a03001100000004000000003e8e00003c40000000'\n",
    "s = bytes.fromhex(s)\n",
    "for j, i in enumerate(range(3,len(s)-3, 4)):\n",
    "    print(j, struct.unpack(\">f\",s[i:i+4])[0])\n"
   ]
  },
  {
   "cell_type": "code",
   "execution_count": 56,
   "metadata": {},
   "outputs": [
    {
     "name": "stdout",
     "output_type": "stream",
     "text": [
      "100\n",
      "0\n",
      "43360\n",
      "1507328\n",
      "1114113\n",
      "956810168\n",
      "995740148\n",
      "3186163168\n",
      "1065244260\n",
      "50336000\n",
      "1085\n",
      "4026531840\n",
      "61\n",
      "1879048192\n"
     ]
    }
   ],
   "source": [
    "s = '00000064000000000000a96000170000001100013907c3b83b59c9f4bde8fde03f7e5664030011000000043df00000000000003d70000000'\n",
    "s = bytes.fromhex(s)\n",
    "for i in range(0,len(s)-3, 4):\n",
    "    print(struct.unpack(\">I\",s[i:i+4])[0])"
   ]
  },
  {
   "cell_type": "code",
   "execution_count": 54,
   "metadata": {},
   "outputs": [
    {
     "name": "stdout",
     "output_type": "stream",
     "text": [
      "0 100\n",
      "0 1.401298464324817e-43\n",
      "00000064\n",
      "1 0\n",
      "1 0.0\n",
      "00000000\n",
      "2 43359\n",
      "2 6.075890011465974e-41\n",
      "0000A95F\n",
      "3 1507328\n",
      "3 2.112216411633798e-39\n",
      "00170000\n",
      "4 1114113\n",
      "4 1.561204835984315e-39\n",
      "00110001\n",
      "5 0\n",
      "5 0.0\n",
      "00000000\n",
      "6 995925512\n",
      "6 0.003366352990269661\n",
      "3B5C9E08\n",
      "7 3186163168\n",
      "7 -0.11376547813415527\n",
      "BDE8FDE0\n",
      "8 1065244260\n",
      "8 0.9935057163238525\n",
      "3F7E5664\n",
      "9 50336000\n",
      "9 3.763533426924677e-37\n",
      "03001100\n",
      "10 1214\n",
      "10 1.701176335690328e-42\n",
      "000004BE\n",
      "11 2617245756\n",
      "11 -4.235195028530262e-22\n",
      "9C00003C\n",
      "12 190\n",
      "12 2.6624670822171524e-43\n",
      "000000BE\n",
      "13 134217728\n",
      "13 3.851859888774472e-34\n",
      "08000000\n"
     ]
    }
   ],
   "source": [
    "s = '00000064000000000000a95f0017000000110001000000003b5c9e08bde8fde03f7e566403001100000004be9c00003c000000be08000000'\n",
    "s = bytes.fromhex(s)\n",
    "for j, i in enumerate(range(0,len(s)-3, 4)):\n",
    "    print(j, struct.unpack('>I',s[i:i+4])[0])\n",
    "    print(j, struct.unpack(\">f\",s[i:i+4])[0])\n",
    "    print(f\"{struct.unpack('>I',s[i:i+4])[0]:08X}\") "
   ]
  },
  {
   "cell_type": "code",
   "execution_count": 57,
   "metadata": {},
   "outputs": [
    {
     "name": "stdout",
     "output_type": "stream",
     "text": [
      "0 00000000\n",
      "0 0\n",
      "1 00000064\n",
      "1 100\n",
      "2 00000000\n",
      "2 0\n",
      "3 00000000\n",
      "3 0\n",
      "4 00000000\n",
      "4 0\n",
      "5 0000A960\n",
      "5 43360\n",
      "6 00000017\n",
      "6 23\n",
      "7 00000000\n",
      "7 0\n",
      "8 00000011\n",
      "8 17\n",
      "9 00000001\n",
      "9 1\n",
      "10 00003907\n",
      "10 14599\n",
      "11 0000C3B8\n",
      "11 50104\n",
      "12 00003B59\n",
      "12 15193\n",
      "13 0000C9F4\n",
      "13 51700\n",
      "14 0000BDE8\n",
      "14 48616\n",
      "15 0000FDE0\n",
      "15 64992\n",
      "16 00003F7E\n",
      "16 16254\n",
      "17 00005664\n",
      "17 22116\n",
      "18 00000300\n",
      "18 768\n",
      "19 00001100\n",
      "19 4352\n",
      "20 00000000\n",
      "20 0\n",
      "21 0000043D\n",
      "21 1085\n",
      "22 0000F000\n",
      "22 61440\n",
      "23 00000000\n",
      "23 0\n",
      "24 00000000\n",
      "24 0\n",
      "25 0000003D\n",
      "25 61\n",
      "26 00007000\n",
      "26 28672\n",
      "27 00000000\n",
      "27 0\n"
     ]
    }
   ],
   "source": [
    "for j, i in enumerate(range(0,len(s)-1, 2)):\n",
    "    b = b'\\x00\\x00'\n",
    "    print(j, f\"{struct.unpack('>I', b + s[i:i+2])[0]:08X}\") \n",
    "    print(j, f\"{struct.unpack('>I', b + s[i:i+2])[0]}\") \n"
   ]
  },
  {
   "cell_type": "code",
   "execution_count": 47,
   "metadata": {},
   "outputs": [
    {
     "name": "stdout",
     "output_type": "stream",
     "text": [
      "b'\\x00d\\x00\\x00\\x00\\x00\\x00\\x00\\xa9_\\x00\\x17\\x00\\x00\\x00\\x11\\x00\\x01\\x00\\x00\\x00\\x00;\\\\\\x9e\\x08\\xbd\\xe8\\xfd\\xe0?~Vd\\x03\\x00\\x11\\x00\\x00\\x00\\x04\\xbe\\x9c\\x00\\x00<\\x00\\x00\\x00\\xbe\\x08\\x00\\x00\\x00'\n"
     ]
    }
   ],
   "source": [
    "print(s)"
   ]
  },
  {
   "cell_type": "code",
   "execution_count": null,
   "metadata": {},
   "outputs": [],
   "source": []
  }
 ],
 "metadata": {
  "kernelspec": {
   "display_name": "vision",
   "language": "python",
   "name": "python3"
  },
  "language_info": {
   "codemirror_mode": {
    "name": "ipython",
    "version": 3
   },
   "file_extension": ".py",
   "mimetype": "text/x-python",
   "name": "python",
   "nbconvert_exporter": "python",
   "pygments_lexer": "ipython3",
   "version": "3.11.10"
  }
 },
 "nbformat": 4,
 "nbformat_minor": 2
}
